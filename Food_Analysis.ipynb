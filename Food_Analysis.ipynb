{
 "cells": [
  {
   "cell_type": "markdown",
   "metadata": {},
   "source": [
    "# Daten Analyse für verschiedliche Produkte der Mahlzeiten in einem Tag"
   ]
  },
  {
   "cell_type": "markdown",
   "metadata": {},
   "source": [
    "## In diesem Notebook werden wir Daten analysieren von Produkten der Mahlzeiten in einem Tag."
   ]
  },
  {
   "cell_type": "markdown",
   "metadata": {},
   "source": [
    "### Hier, in diesen Teil werden wir statististiche Operationen machen um später es veranschaulich zu erklären. Wenn es ihnen nicht interessiert wie ich alles gemacht habe, könnt iht direkt zum Teil wo ich die Resultate vorstelle, sofort überspringen."
   ]
  },
  {
   "cell_type": "markdown",
   "metadata": {},
   "source": [
    "Das sind alle Python-Bibliotheken die wir gebrauchen werden:"
   ]
  },
  {
   "cell_type": "code",
   "execution_count": 24,
   "metadata": {},
   "outputs": [],
   "source": [
    "import matplotlib.pyplot as plt\n",
    "import numpy as np\n",
    "import math as mt\n",
    "from scipy.stats import norm\n",
    "import seaborn as sn\n",
    "import pandas as pd"
   ]
  },
  {
   "cell_type": "markdown",
   "metadata": {},
   "source": [
    "Als erstes werden wir alle Daten definieren."
   ]
  },
  {
   "cell_type": "markdown",
   "metadata": {},
   "source": [
    "Erstens werden wir den Mittelwert berechnen für alle Produkte berechnen. Un hier habe ich ein paar tage dran gemacht so dass es statistisch relevant ist."
   ]
  },
  {
   "cell_type": "code",
   "execution_count": 25,
   "metadata": {},
   "outputs": [],
   "source": [
    "#Alle Daten für Fleisch\n",
    "Fleisch_data = [31,34,25,31,36,32,32,30,\n",
    "                30,22,20,30,28,33,33,30,\n",
    "                27,28,30,25,39,28,31,29,\n",
    "                30,40,36,34,26,30,27,29,\n",
    "                21,31,29,35,25,28,23,33,\n",
    "                26,28,26,38,35,35,25,33,\n",
    "                28,30]\n",
    "\n",
    "\n",
    "Fleisch_mean=np.mean(Fleisch_data)\n",
    "\n",
    "#Alle Daten für Milch\n",
    "Milch_data = [15,7,14,14,5,2,11,9,7,7,\n",
    "              9,4,11,11,10,9,17,8,10,5,\n",
    "              3,11,9,6,9,5,4,4,8,10,13,\n",
    "              9,11,18,0,13,15,11,12,14,\n",
    "              10,9,13,15,20,15,17,9,9,7]\n",
    "\n",
    "Milch_mean=np.mean(Milch_data)\n",
    "\n",
    "#Alle Daten für Getreide\n",
    "Getreide_data = [27,29,31,31,27,22,29,26,\n",
    "                 33,31,36,32,26,26,25,27,\n",
    "                 27,24,32,35,30,34,31,32,\n",
    "                 25,32,29,28,36,34,32,28,\n",
    "                 38,25,29,23,30,33,31,15,\n",
    "                 27,25,22,29,30,27,32,31,\n",
    "                 32,30]\n",
    "\n",
    "\n",
    "Getreide_mean=np.mean(Getreide_data)\n",
    "\n",
    "#Alle Daten für Eier\n",
    "Eier_data = [7,12,9,13,13,18,0,4,11,13,13,16,\n",
    "             11,9,13,11,8,12,10,12,10,11,8,9,\n",
    "             8,9,9,9,13,10,5,16,8,4,10,5,15,9,\n",
    "             11,12,8,18,16,3,5,4,6,11,8,10]\n",
    "\n",
    "\n",
    "Eier_mean=np.mean(Eier_data)\n",
    "\n",
    "#Alle Daten für Speisefette und Öle\n",
    "SO_data = [20,18,21,11,19,26,28,31,19,27,\n",
    "           22,18,24,21,19,23,21,28,18,23,\n",
    "           18,16,21,24,28,14,22,25,17,16,\n",
    "           23,18,22,22,32,24,15,19,23,26,\n",
    "           29,20,23,15,10,19,20,16,23,23]\n",
    "\n",
    "SO_mean=np.mean(SO_data)\n",
    "\n",
    "all_means=[Fleisch_mean, Milch_mean, Getreide_mean, Eier_mean, SO_mean]"
   ]
  },
  {
   "cell_type": "code",
   "execution_count": 26,
   "metadata": {},
   "outputs": [],
   "source": [
    "sum_of_all_means=sum(all_means)"
   ]
  },
  {
   "cell_type": "code",
   "execution_count": 27,
   "metadata": {},
   "outputs": [
    {
     "name": "stdout",
     "output_type": "stream",
     "text": [
      "100.00000000000001\n"
     ]
    }
   ],
   "source": [
    "Fleisch_mean = round(np.mean(Fleisch_data), 1)\n",
    "Milch_mean = round(np.mean(Milch_data), 1)\n",
    "Getreide_mean = round(np.mean(Getreide_data), 1)\n",
    "Eier_mean = round(np.mean(Eier_data), 1)\n",
    "SO_mean = round(np.mean(SO_data), 1)\n",
    "\n",
    "all_means = [Fleisch_mean, Milch_mean, Getreide_mean, Eier_mean, SO_mean]\n",
    "sum_of_all_means = sum(all_means)\n",
    "\n",
    "print(sum_of_all_means)"
   ]
  },
  {
   "cell_type": "markdown",
   "metadata": {},
   "source": [
    "Hier haben wir alle Mittelwerte Summiert, und ich werde später erklären was das bedeutet."
   ]
  },
  {
   "cell_type": "markdown",
   "metadata": {},
   "source": [
    "Jetzt werde ich noch mehrere statistische Operationen machen und dann werden wir zum nächsten Teil des Notebooks gehen, wo ich alle Daten erkläre."
   ]
  },
  {
   "cell_type": "code",
   "execution_count": 23,
   "metadata": {},
   "outputs": [],
   "source": [
    "def variance(values):\n",
    "    mean=np.mean(values)\n",
    "    _variance=sum((v-mean)**2 for v in values)/len(values)\n",
    "    return _variance"
   ]
  },
  {
   "cell_type": "code",
   "execution_count": 28,
   "metadata": {},
   "outputs": [],
   "source": [
    "def std_dev(values):\n",
    "    return (mt.sqrt(variance(values)))"
   ]
  },
  {
   "cell_type": "code",
   "execution_count": 29,
   "metadata": {},
   "outputs": [],
   "source": [
    "Fleisch_Variance=variance(Fleisch_data)\n",
    "Milch_Variance=variance(Milch_data)\n",
    "Getreide_Variance=variance(Getreide_data)\n",
    "Eier_Variance=variance(Eier_data)\n",
    "SO_Variance=variance(SO_data)"
   ]
  },
  {
   "cell_type": "code",
   "execution_count": 31,
   "metadata": {},
   "outputs": [],
   "source": [
    "Fleisch_std_dev=std_dev(Fleisch_data)\n",
    "Milch_std_dev=std_dev(Milch_data)\n",
    "Getreide_std_dev=std_dev(Getreide_data)\n",
    "Eier_std_dev=std_dev(Eier_data)\n",
    "SO_std_dev=std_dev(SO_data)"
   ]
  },
  {
   "cell_type": "code",
   "execution_count": 36,
   "metadata": {},
   "outputs": [
    {
     "name": "stdout",
     "output_type": "stream",
     "text": [
      "20\n",
      "0\n",
      "15\n",
      "0\n",
      "10\n"
     ]
    }
   ],
   "source": [
    "print(min(Fleisch_data))\n",
    "print(min(Milch_data))\n",
    "print(min(Getreide_data))\n",
    "print(min(Eier_data))\n",
    "print(min(SO_data))"
   ]
  },
  {
   "cell_type": "code",
   "execution_count": 38,
   "metadata": {},
   "outputs": [
    {
     "data": {
      "text/html": [
       "<div>\n",
       "<style scoped>\n",
       "    .dataframe tbody tr th:only-of-type {\n",
       "        vertical-align: middle;\n",
       "    }\n",
       "\n",
       "    .dataframe tbody tr th {\n",
       "        vertical-align: top;\n",
       "    }\n",
       "\n",
       "    .dataframe thead th {\n",
       "        text-align: right;\n",
       "    }\n",
       "</style>\n",
       "<table border=\"1\" class=\"dataframe\">\n",
       "  <thead>\n",
       "    <tr style=\"text-align: right;\">\n",
       "      <th></th>\n",
       "      <th>PT</th>\n",
       "      <th>Varianz</th>\n",
       "      <th>Standard Abweichung</th>\n",
       "      <th>Mittewert</th>\n",
       "      <th>max</th>\n",
       "      <th>min</th>\n",
       "    </tr>\n",
       "  </thead>\n",
       "  <tbody>\n",
       "    <tr>\n",
       "      <th>Fleisch</th>\n",
       "      <td>19.1700</td>\n",
       "      <td>4.378356</td>\n",
       "      <td>29.9</td>\n",
       "      <td>40</td>\n",
       "      <td>20</td>\n",
       "      <td>NaN</td>\n",
       "    </tr>\n",
       "    <tr>\n",
       "      <th>Milch</th>\n",
       "      <td>18.2256</td>\n",
       "      <td>4.269145</td>\n",
       "      <td>9.9</td>\n",
       "      <td>20</td>\n",
       "      <td>0</td>\n",
       "      <td>NaN</td>\n",
       "    </tr>\n",
       "    <tr>\n",
       "      <th>Getreide</th>\n",
       "      <td>17.1856</td>\n",
       "      <td>4.145552</td>\n",
       "      <td>29.1</td>\n",
       "      <td>38</td>\n",
       "      <td>15</td>\n",
       "      <td>NaN</td>\n",
       "    </tr>\n",
       "    <tr>\n",
       "      <th>Eier</th>\n",
       "      <td>14.4900</td>\n",
       "      <td>3.806573</td>\n",
       "      <td>9.9</td>\n",
       "      <td>18</td>\n",
       "      <td>0</td>\n",
       "      <td>NaN</td>\n",
       "    </tr>\n",
       "    <tr>\n",
       "      <th>Speisefette und Öle</th>\n",
       "      <td>21.8400</td>\n",
       "      <td>4.673329</td>\n",
       "      <td>21.2</td>\n",
       "      <td>32</td>\n",
       "      <td>10</td>\n",
       "      <td>NaN</td>\n",
       "    </tr>\n",
       "  </tbody>\n",
       "</table>\n",
       "</div>"
      ],
      "text/plain": [
       "                          PT   Varianz  Standard Abweichung  Mittewert  max  \\\n",
       "Fleisch              19.1700  4.378356                 29.9         40   20   \n",
       "Milch                18.2256  4.269145                  9.9         20    0   \n",
       "Getreide             17.1856  4.145552                 29.1         38   15   \n",
       "Eier                 14.4900  3.806573                  9.9         18    0   \n",
       "Speisefette und Öle  21.8400  4.673329                 21.2         32   10   \n",
       "\n",
       "                     min  \n",
       "Fleisch              NaN  \n",
       "Milch                NaN  \n",
       "Getreide             NaN  \n",
       "Eier                 NaN  \n",
       "Speisefette und Öle  NaN  "
      ]
     },
     "execution_count": 38,
     "metadata": {},
     "output_type": "execute_result"
    }
   ],
   "source": [
    "df2=pd.read_csv(\"food_analysis.csv\")\n",
    "df2"
   ]
  },
  {
   "cell_type": "code",
   "execution_count": null,
   "metadata": {},
   "outputs": [],
   "source": []
  }
 ],
 "metadata": {
  "kernelspec": {
   "display_name": "Python 3",
   "language": "python",
   "name": "python3"
  },
  "language_info": {
   "codemirror_mode": {
    "name": "ipython",
    "version": 3
   },
   "file_extension": ".py",
   "mimetype": "text/x-python",
   "name": "python",
   "nbconvert_exporter": "python",
   "pygments_lexer": "ipython3",
   "version": "3.11.5"
  },
  "orig_nbformat": 4
 },
 "nbformat": 4,
 "nbformat_minor": 2
}
