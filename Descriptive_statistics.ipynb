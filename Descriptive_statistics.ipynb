{
 "cells": [
  {
   "cell_type": "markdown",
   "metadata": {},
   "source": [
    "# Descriptive Statistics"
   ]
  },
  {
   "cell_type": "markdown",
   "metadata": {},
   "source": [
    "## Here I will learn all(many) concepts of Descriptive Statistics"
   ]
  },
  {
   "cell_type": "markdown",
   "metadata": {},
   "source": [
    "### Here are all the libraries the we are gonna need:"
   ]
  },
  {
   "cell_type": "code",
   "execution_count": 3,
   "metadata": {},
   "outputs": [],
   "source": [
    "import numpy as np\n",
    "import scipy as sp\n",
    "import matplotlib.pyplot as plt\n",
    "import math as mt\n",
    "from collections import defaultdict"
   ]
  },
  {
   "cell_type": "markdown",
   "metadata": {},
   "source": [
    "import numpy as np\n",
    "import scipy as sp\n",
    "import matplotlib.pyplot as plt\n",
    "import math as mt"
   ]
  },
  {
   "cell_type": "markdown",
   "metadata": {},
   "source": [
    "### Mean"
   ]
  },
  {
   "cell_type": "markdown",
   "metadata": {},
   "source": [
    "The mean is the average of a row of values"
   ]
  },
  {
   "cell_type": "code",
   "execution_count": 4,
   "metadata": {},
   "outputs": [
    {
     "data": {
      "text/plain": [
       "np.float64(2.875)"
      ]
     },
     "execution_count": 4,
     "metadata": {},
     "output_type": "execute_result"
    }
   ],
   "source": [
    "sample=[1,3,2,5,7,0,2,3]\n",
    "\n",
    "mean_of_sample=np.mean(sample)\n",
    "\n",
    "mean_of_sample"
   ]
  },
  {
   "cell_type": "markdown",
   "metadata": {},
   "source": [
    "Here we did it with the library **numpy** but we can do it without packages too"
   ]
  },
  {
   "cell_type": "code",
   "execution_count": 5,
   "metadata": {},
   "outputs": [
    {
     "data": {
      "text/plain": [
       "2.875"
      ]
     },
     "execution_count": 5,
     "metadata": {},
     "output_type": "execute_result"
    }
   ],
   "source": [
    "sample=[1,3,2,5,7,0,2,3]\n",
    "\n",
    "mean_of_sample=sum(sample)/len(sample)\n",
    "\n",
    "mean_of_sample"
   ]
  },
  {
   "cell_type": "markdown",
   "metadata": {},
   "source": [
    "The ouput of both code samples are equal, the only difference is that the first sample is more compact than the second one. The formula for the mean is: list of numbers / length of the list of numbers. In the second code snippet we have the variable **mean_of_sample** that is the sum of all objects in the list divided by the length of the list sample. But normally to do it more compact, programmers use tools like numpy."
   ]
  },
  {
   "cell_type": "markdown",
   "metadata": {},
   "source": [
    "### Weighted Mean"
   ]
  },
  {
   "cell_type": "markdown",
   "metadata": {},
   "source": [
    "The Weighted mean is almost like the \"normal\" mean but it's more accurate. Imagine we have two bottles, the first bottle is 2l, the second one is 1l. In both bottles we have water and oil, in the first bottle we have 20ml of oil and in the second one we have 5ml of oil. Now we want to have the average of the oil in the bottles. If the bottle would have the same liquid capacity then the formula would be like this:"
   ]
  },
  {
   "cell_type": "code",
   "execution_count": 6,
   "metadata": {},
   "outputs": [
    {
     "data": {
      "text/plain": [
       "np.float64(12.5)"
      ]
     },
     "execution_count": 6,
     "metadata": {},
     "output_type": "execute_result"
    }
   ],
   "source": [
    "oil_in_bottles=[20, 5] # the first object is the the oil in the first bottle, the second one is the oil in the second bottle\n",
    "\n",
    "mean_of_oil=np.mean(oil_in_bottles)\n",
    "\n",
    "mean_of_oil"
   ]
  },
  {
   "cell_type": "markdown",
   "metadata": {},
   "source": [
    "But that's wrong, because the bottles that we have, have different liquid capacities. In this case we use the **weighted mean**. The formula is like this: ((n1 * w2) + (n2 * w2) + ... + (ni*wi)) / w1 + w2 + ... + wi."
   ]
  },
  {
   "cell_type": "code",
   "execution_count": 7,
   "metadata": {},
   "outputs": [
    {
     "data": {
      "text/plain": [
       "15.0"
      ]
     },
     "execution_count": 7,
     "metadata": {},
     "output_type": "execute_result"
    }
   ],
   "source": [
    "oil_in_bottles=[20, 5]\n",
    "oil_in_bottles_weights=[2, 1] # The objects in this lists are the liquid capacities of both bottles\n",
    "\n",
    "weighted_mean= sum(s*w for s,w in zip(oil_in_bottles, oil_in_bottles_weights)) / sum(oil_in_bottles_weights)\n",
    "\n",
    "weighted_mean"
   ]
  },
  {
   "cell_type": "markdown",
   "metadata": {},
   "source": [
    "For those who don't know, the zip function unifies two lists, that means in our example happens this: zip(oil_in_bottles, oil_in_bottles_weights) = [(20, 2), (5, 1)]. It makes tuples out of the lists and puts them in an other list. The Weighted mean is used in cases like this, when you have some numbers, and some numbers are more \"important\" than the other ones."
   ]
  },
  {
   "cell_type": "markdown",
   "metadata": {},
   "source": [
    "### Median"
   ]
  },
  {
   "cell_type": "markdown",
   "metadata": {},
   "source": [
    "The median is the middle number. It's found by ordering all data points and picking out the one in the middle (or if there are two middle numbers, taking the mean of those two numbers)."
   ]
  },
  {
   "cell_type": "code",
   "execution_count": 8,
   "metadata": {},
   "outputs": [
    {
     "name": "stdout",
     "output_type": "stream",
     "text": [
      "5\n"
     ]
    }
   ],
   "source": [
    "sample=[0,1,5,10,14]\n",
    "\n",
    "\n",
    "def median(values):\n",
    "    ordered=sorted(values)\n",
    "    n=len(ordered)\n",
    "    mid=int(n/2) - 1 if n % 2 == 0 else int(n/2)\n",
    "\n",
    "    if n %2 == 0:\n",
    "        return ordered[mid] + ordered[mid+1] / 2.0\n",
    "    else:\n",
    "        return ordered[mid]\n",
    "\n",
    "print(median(sample))"
   ]
  },
  {
   "cell_type": "markdown",
   "metadata": {},
   "source": [
    "In this code: we have a list(sample) that we put in at at then as the parameter values in the median function. First we made a variable that is a new list that is the sorted version of the values list(sample list) then we have n that is the length of our list. Then we calculate the middle value and then we have if statements that depending from how the list is prints the list in a way."
   ]
  },
  {
   "cell_type": "markdown",
   "metadata": {},
   "source": [
    "### Mode"
   ]
  },
  {
   "cell_type": "markdown",
   "metadata": {},
   "source": [
    "We need the mode to find out the value that is used the most in a dataset."
   ]
  },
  {
   "cell_type": "code",
   "execution_count": 9,
   "metadata": {},
   "outputs": [
    {
     "name": "stdout",
     "output_type": "stream",
     "text": [
      "[2, 3]\n"
     ]
    }
   ],
   "source": [
    "sample=[1,3,2,5,7,0,2,3]\n",
    "\n",
    "def mode(values):\n",
    "    counts=defaultdict(lambda: 0)\n",
    "\n",
    "    for s in values:\n",
    "        counts[s] += 1\n",
    "\n",
    "    max_count = max(counts.values())\n",
    "    modes = [v for v in set(values) if counts[v] == max_count]\n",
    "    return modes\n",
    "\n",
    "print(mode(sample))"
   ]
  },
  {
   "cell_type": "markdown",
   "metadata": {},
   "source": [
    "### Variance and standard deviation"
   ]
  },
  {
   "cell_type": "markdown",
   "metadata": {},
   "source": [
    "Variance is a measure of how data points differ from the mean."
   ]
  },
  {
   "cell_type": "code",
   "execution_count": 10,
   "metadata": {},
   "outputs": [
    {
     "name": "stdout",
     "output_type": "stream",
     "text": [
      "21.387755102040817\n"
     ]
    }
   ],
   "source": [
    "data=[0,1,5,7,9,10,14]\n",
    "\n",
    "def variance(values):\n",
    "    mean=sum(values)/len(values)\n",
    "    _variance=sum((v-mean)**2 for v in values)/len(values)\n",
    "    return _variance\n",
    "\n",
    "print(variance(data))"
   ]
  },
  {
   "cell_type": "markdown",
   "metadata": {},
   "source": [
    "### Standard deviation"
   ]
  },
  {
   "cell_type": "markdown",
   "metadata": {},
   "source": [
    "Standard deviation a measure of how dispersed the data is in relation to the mean"
   ]
  },
  {
   "cell_type": "code",
   "execution_count": 11,
   "metadata": {},
   "outputs": [
    {
     "name": "stdout",
     "output_type": "stream",
     "text": [
      "4.624689730353899\n"
     ]
    }
   ],
   "source": [
    "def std_dev(values):\n",
    "    return mt.sqrt(variance(values))\n",
    "\n",
    "print(std_dev(data))"
   ]
  },
  {
   "cell_type": "markdown",
   "metadata": {},
   "source": [
    "The formula for the standard diviation is practically the same as for the variance, only that standard deviation formula is the square root of he variance formula. There are standard deviations with long tails and with short tails."
   ]
  },
  {
   "cell_type": "markdown",
   "metadata": {},
   "source": [
    "### Sampling with Variance and Standard deviation"
   ]
  },
  {
   "cell_type": "markdown",
   "metadata": {},
   "source": [
    "We do the variance and standard deviation but with data. The formula is the same only the we don in the denominator n-1 and not n. Because..."
   ]
  },
  {
   "cell_type": "code",
   "execution_count": 12,
   "metadata": {},
   "outputs": [
    {
     "name": "stdout",
     "output_type": "stream",
     "text": [
      "VARIANCE = 28.56666666666667\n",
      "STD DEV = 5.344779384283945\n"
     ]
    }
   ],
   "source": [
    "data=[0,1,5,7,10,14]\n",
    "\n",
    "def variance(values, is_sample: bool = False):\n",
    "    mean=sum(values)/len(values)\n",
    "    _variance=sum((v - mean) ** 2 for v in values) / (len(values) - (1 if is_sample else 0))\n",
    "    return _variance\n",
    "\n",
    "def std_dev(values, is_sample: bool = False):\n",
    "    return mt.sqrt(variance(values, is_sample))\n",
    "\n",
    "print(\"VARIANCE = {}\".format(variance(data, is_sample=True)))\n",
    "print(\"STD DEV = {}\".format(std_dev(data, is_sample=True)))"
   ]
  },
  {
   "cell_type": "markdown",
   "metadata": {},
   "source": [
    "### Normalverteilung"
   ]
  }
 ],
 "metadata": {
  "kernelspec": {
   "display_name": "Python 3",
   "language": "python",
   "name": "python3"
  },
  "language_info": {
   "codemirror_mode": {
    "name": "ipython",
    "version": 3
   },
   "file_extension": ".py",
   "mimetype": "text/x-python",
   "name": "python",
   "nbconvert_exporter": "python",
   "pygments_lexer": "ipython3",
   "version": "3.12.1"
  },
  "orig_nbformat": 4
 },
 "nbformat": 4,
 "nbformat_minor": 2
}
