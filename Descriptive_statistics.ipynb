{
 "cells": [
  {
   "cell_type": "markdown",
   "metadata": {},
   "source": [
    "# Descriptive Statistics"
   ]
  },
  {
   "cell_type": "markdown",
   "metadata": {},
   "source": [
    "## Here I will learn all(many) concepts of Descriptive Statistics"
   ]
  },
  {
   "cell_type": "markdown",
   "metadata": {},
   "source": [
    "### Here are all the libraries the we are gonna need:"
   ]
  },
  {
   "cell_type": "code",
   "execution_count": 1,
   "metadata": {},
   "outputs": [],
   "source": [
    "import numpy as np\n",
    "import scipy as sp\n",
    "import matplotlib.pyplot as plt\n",
    "import math as mt"
   ]
  },
  {
   "cell_type": "markdown",
   "metadata": {},
   "source": [
    "### Mean"
   ]
  },
  {
   "cell_type": "markdown",
   "metadata": {},
   "source": [
    "The mean is the average of a row of values"
   ]
  },
  {
   "cell_type": "code",
   "execution_count": 4,
   "metadata": {},
   "outputs": [
    {
     "data": {
      "text/plain": [
       "np.float64(2.875)"
      ]
     },
     "execution_count": 4,
     "metadata": {},
     "output_type": "execute_result"
    }
   ],
   "source": [
    "sample=[1,3,2,5,7,0,2,3]\n",
    "\n",
    "mean_of_sample=np.mean(sample)\n",
    "\n",
    "mean_of_sample"
   ]
  },
  {
   "cell_type": "markdown",
   "metadata": {},
   "source": [
    "Here we did it with the library **numpy** but we can do it without packages too"
   ]
  },
  {
   "cell_type": "code",
   "execution_count": 5,
   "metadata": {},
   "outputs": [
    {
     "data": {
      "text/plain": [
       "2.875"
      ]
     },
     "execution_count": 5,
     "metadata": {},
     "output_type": "execute_result"
    }
   ],
   "source": [
    "sample=[1,3,2,5,7,0,2,3]\n",
    "\n",
    "mean_of_sample=sum(sample)/len(sample)\n",
    "\n",
    "mean_of_sample"
   ]
  },
  {
   "cell_type": "markdown",
   "metadata": {},
   "source": [
    "The ouput of both code samples are equal, the only difference is that the first sample is more compact than the second one. The formula for the mean is: list of numbers / length of the list of numbers. In the second code snippet we have the variable **mean_of_sample** that is the sum of all objects in the list divided by the length of the list sample. But normally to do it more compact, programmers use tools like numpy."
   ]
  },
  {
   "cell_type": "markdown",
   "metadata": {},
   "source": [
    "### Weighted Mean"
   ]
  },
  {
   "cell_type": "markdown",
   "metadata": {},
   "source": [
    "The Weighted mean is almost like the \"normal\" mean but it's more accurate. Imagine we have two bottles, the first bottle is 2l, the second one is 1l. In both bottles we have water and oil, in the first bottle we have 20ml of oil and in the second one we have 5ml of oil. Now we want to have the average of the oil in the bottles. If the bottle would have the same liquid capacity then the formula would be like this:"
   ]
  },
  {
   "cell_type": "code",
   "execution_count": 6,
   "metadata": {},
   "outputs": [
    {
     "data": {
      "text/plain": [
       "np.float64(12.5)"
      ]
     },
     "execution_count": 6,
     "metadata": {},
     "output_type": "execute_result"
    }
   ],
   "source": [
    "oil_in_bottles=[20, 5] # the first object is the the oil in the first bottle, the second one is the oil in the second bottle\n",
    "\n",
    "mean_of_oil=np.mean(oil_in_bottles)\n",
    "\n",
    "mean_of_oil"
   ]
  },
  {
   "cell_type": "markdown",
   "metadata": {},
   "source": [
    "But that's wrong, because the bottles that we have, have different liquid capacities. In this case we use the **weighted mean**. The formula is like this: ((n1 * w2) + (n2 * w2) + ... + (ni*wi)) / w1 + w2 + ... + wi."
   ]
  },
  {
   "cell_type": "code",
   "execution_count": 7,
   "metadata": {},
   "outputs": [
    {
     "data": {
      "text/plain": [
       "15.0"
      ]
     },
     "execution_count": 7,
     "metadata": {},
     "output_type": "execute_result"
    }
   ],
   "source": [
    "oil_in_bottles=[20, 5]\n",
    "oil_in_bottles_weights=[2, 1] # The objects in this lists are the liquid capacities of both bottles\n",
    "\n",
    "weighted_mean= sum(s*w for s,w in zip(oil_in_bottles, oil_in_bottles_weights)) / sum(oil_in_bottles_weights)\n",
    "\n",
    "weighted_mean"
   ]
  },
  {
   "cell_type": "markdown",
   "metadata": {},
   "source": [
    "For those who don't know, the zip function unifies two lists, that means in our example happens this: zip(oil_in_bottles, oil_in_bottles_weights) = [(20, 2), (5, 1)]. It makes tuples out of the lists and puts them in an other list. The Weighted mean is used in cases like this, when you have some numbers, and some numbers are more \"important\" than the other ones."
   ]
  },
  {
   "cell_type": "markdown",
   "metadata": {},
   "source": [
    "### Median"
   ]
  },
  {
   "cell_type": "markdown",
   "metadata": {},
   "source": [
    "The median is the middle number. It's found by ordering all data points and picking out the one in the middle (or if there are two middle numbers, taking the mean of those two numbers)."
   ]
  },
  {
   "cell_type": "code",
   "execution_count": 4,
   "metadata": {},
   "outputs": [
    {
     "name": "stdout",
     "output_type": "stream",
     "text": [
      "7\n"
     ]
    }
   ],
   "source": [
    "sample=[0,1,5,7,9,10,14]\n",
    "\n",
    "def median(values):\n",
    "    ordered=sorted(values)\n",
    "    n=len(ordered)\n",
    "\n",
    "    mid = int(n/2) - 1 if n % 2 == 0 else int(n/2)\n",
    "\n",
    "    if n % 2 == 0:\n",
    "        return (ordered[mid] + ordered[mid+1]) / 2.0\n",
    "    else:\n",
    "        return ordered[mid]\n",
    "\n",
    "print(median(sample))"
   ]
  },
  {
   "cell_type": "code",
   "execution_count": null,
   "metadata": {},
   "outputs": [],
   "source": []
  }
 ],
 "metadata": {
  "kernelspec": {
   "display_name": "Python 3",
   "language": "python",
   "name": "python3"
  },
  "language_info": {
   "codemirror_mode": {
    "name": "ipython",
    "version": 3
   },
   "file_extension": ".py",
   "mimetype": "text/x-python",
   "name": "python",
   "nbconvert_exporter": "python",
   "pygments_lexer": "ipython3",
   "version": "3.11.5"
  },
  "orig_nbformat": 4
 },
 "nbformat": 4,
 "nbformat_minor": 2
}
