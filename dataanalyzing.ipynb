{
 "cells": [
  {
   "cell_type": "code",
   "execution_count": 1,
   "metadata": {},
   "outputs": [],
   "source": [
    "import pandas as pd\n",
    "import numpy as np\n",
    "import matplotlib.pyplot as plt\n",
    "import seaborn as sn"
   ]
  },
  {
   "cell_type": "code",
   "execution_count": 3,
   "metadata": {},
   "outputs": [
    {
     "data": {
      "text/html": [
       "<div>\n",
       "<style scoped>\n",
       "    .dataframe tbody tr th:only-of-type {\n",
       "        vertical-align: middle;\n",
       "    }\n",
       "\n",
       "    .dataframe tbody tr th {\n",
       "        vertical-align: top;\n",
       "    }\n",
       "\n",
       "    .dataframe thead th {\n",
       "        text-align: right;\n",
       "    }\n",
       "</style>\n",
       "<table border=\"1\" class=\"dataframe\">\n",
       "  <thead>\n",
       "    <tr style=\"text-align: right;\">\n",
       "      <th></th>\n",
       "      <th>First name</th>\n",
       "      <th>Last Name</th>\n",
       "      <th>School</th>\n",
       "      <th>Grade</th>\n",
       "      <th>Teachers</th>\n",
       "      <th>Friends</th>\n",
       "      <th>Hobbies</th>\n",
       "      <th>Favourite books</th>\n",
       "      <th>Favourite Subjects</th>\n",
       "      <th>Average grades</th>\n",
       "      <th>Address</th>\n",
       "    </tr>\n",
       "  </thead>\n",
       "  <tbody>\n",
       "    <tr>\n",
       "      <th>0</th>\n",
       "      <td>Pietro</td>\n",
       "      <td>Abruzzo</td>\n",
       "      <td>CJD Gymnasium Versmold</td>\n",
       "      <td>6</td>\n",
       "      <td>Herr Bonus Frau Recker Frau Beckmann Frau Wala...</td>\n",
       "      <td>Benjamin Anton Wilhelm Wehmeier</td>\n",
       "      <td>Coding and doing math</td>\n",
       "      <td>Data science books</td>\n",
       "      <td>math physics chemistry computer science</td>\n",
       "      <td>1.4</td>\n",
       "      <td>Feldstrasse 8 Bad Rothenfelde Lower Saxony Ger...</td>\n",
       "    </tr>\n",
       "  </tbody>\n",
       "</table>\n",
       "</div>"
      ],
      "text/plain": [
       "  First name Last Name                  School  Grade  \\\n",
       "0     Pietro   Abruzzo  CJD Gymnasium Versmold      6   \n",
       "\n",
       "                                            Teachers  \\\n",
       "0  Herr Bonus Frau Recker Frau Beckmann Frau Wala...   \n",
       "\n",
       "                            Friends                Hobbies  \\\n",
       "0   Benjamin Anton Wilhelm Wehmeier  Coding and doing math   \n",
       "\n",
       "      Favourite books                       Favourite Subjects  \\\n",
       "0  Data science books  math physics chemistry computer science   \n",
       "\n",
       "   Average grades                                            Address  \n",
       "0             1.4  Feldstrasse 8 Bad Rothenfelde Lower Saxony Ger...  "
      ]
     },
     "execution_count": 3,
     "metadata": {},
     "output_type": "execute_result"
    }
   ],
   "source": [
    "df=pd.read_csv(\"mystats.csv\")\n",
    "\n",
    "df"
   ]
  },
  {
   "cell_type": "code",
   "execution_count": 4,
   "metadata": {},
   "outputs": [
    {
     "data": {
      "text/plain": [
       "0    Feldstrasse 8 Bad Rothenfelde Lower Saxony Ger...\n",
       "Name: Address, dtype: object"
      ]
     },
     "execution_count": 4,
     "metadata": {},
     "output_type": "execute_result"
    }
   ],
   "source": [
    "df[\"Address\"]"
   ]
  },
  {
   "cell_type": "code",
   "execution_count": 8,
   "metadata": {},
   "outputs": [
    {
     "data": {
      "text/plain": [
       "0    1.4\n",
       "Name: Average grades, dtype: float64"
      ]
     },
     "execution_count": 8,
     "metadata": {},
     "output_type": "execute_result"
    }
   ],
   "source": [
    "df[\"Average grades\"]"
   ]
  },
  {
   "cell_type": "code",
   "execution_count": null,
   "metadata": {},
   "outputs": [],
   "source": []
  }
 ],
 "metadata": {
  "kernelspec": {
   "display_name": "Python 3",
   "language": "python",
   "name": "python3"
  },
  "language_info": {
   "codemirror_mode": {
    "name": "ipython",
    "version": 3
   },
   "file_extension": ".py",
   "mimetype": "text/x-python",
   "name": "python",
   "nbconvert_exporter": "python",
   "pygments_lexer": "ipython3",
   "version": "3.12.1"
  }
 },
 "nbformat": 4,
 "nbformat_minor": 2
}
